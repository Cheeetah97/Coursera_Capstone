{
 "cells": [
  {
   "cell_type": "code",
   "execution_count": 16,
   "id": "0b4a8edd-1403-4581-8c52-84da97b3017e",
   "metadata": {},
   "outputs": [],
   "source": [
    "import yfinance as yf\n",
    "import pandas as pd\n",
    "import requests\n",
    "from bs4 import BeautifulSoup"
   ]
  },
  {
   "cell_type": "markdown",
   "id": "8eb4bd6f-0440-455d-bcf5-162ad5730a62",
   "metadata": {},
   "source": [
    "### Q1. Tesla Stock data using yfinance"
   ]
  },
  {
   "cell_type": "code",
   "execution_count": 18,
   "id": "aab6f4b5-b024-46c0-b46c-09cb0fd35f7f",
   "metadata": {},
   "outputs": [
    {
     "data": {
      "text/html": [
       "<div>\n",
       "<style scoped>\n",
       "    .dataframe tbody tr th:only-of-type {\n",
       "        vertical-align: middle;\n",
       "    }\n",
       "\n",
       "    .dataframe tbody tr th {\n",
       "        vertical-align: top;\n",
       "    }\n",
       "\n",
       "    .dataframe thead th {\n",
       "        text-align: right;\n",
       "    }\n",
       "</style>\n",
       "<table border=\"1\" class=\"dataframe\">\n",
       "  <thead>\n",
       "    <tr style=\"text-align: right;\">\n",
       "      <th></th>\n",
       "      <th>Open</th>\n",
       "      <th>High</th>\n",
       "      <th>Low</th>\n",
       "      <th>Close</th>\n",
       "      <th>Volume</th>\n",
       "      <th>Dividends</th>\n",
       "      <th>Stock Splits</th>\n",
       "    </tr>\n",
       "    <tr>\n",
       "      <th>Date</th>\n",
       "      <th></th>\n",
       "      <th></th>\n",
       "      <th></th>\n",
       "      <th></th>\n",
       "      <th></th>\n",
       "      <th></th>\n",
       "      <th></th>\n",
       "    </tr>\n",
       "  </thead>\n",
       "  <tbody>\n",
       "    <tr>\n",
       "      <th>2010-06-29</th>\n",
       "      <td>3.800</td>\n",
       "      <td>5.000</td>\n",
       "      <td>3.508</td>\n",
       "      <td>4.778</td>\n",
       "      <td>93831500</td>\n",
       "      <td>0</td>\n",
       "      <td>0.0</td>\n",
       "    </tr>\n",
       "    <tr>\n",
       "      <th>2010-06-30</th>\n",
       "      <td>5.158</td>\n",
       "      <td>6.084</td>\n",
       "      <td>4.660</td>\n",
       "      <td>4.766</td>\n",
       "      <td>85935500</td>\n",
       "      <td>0</td>\n",
       "      <td>0.0</td>\n",
       "    </tr>\n",
       "    <tr>\n",
       "      <th>2010-07-01</th>\n",
       "      <td>5.000</td>\n",
       "      <td>5.184</td>\n",
       "      <td>4.054</td>\n",
       "      <td>4.392</td>\n",
       "      <td>41094000</td>\n",
       "      <td>0</td>\n",
       "      <td>0.0</td>\n",
       "    </tr>\n",
       "    <tr>\n",
       "      <th>2010-07-02</th>\n",
       "      <td>4.600</td>\n",
       "      <td>4.620</td>\n",
       "      <td>3.742</td>\n",
       "      <td>3.840</td>\n",
       "      <td>25699000</td>\n",
       "      <td>0</td>\n",
       "      <td>0.0</td>\n",
       "    </tr>\n",
       "    <tr>\n",
       "      <th>2010-07-06</th>\n",
       "      <td>4.000</td>\n",
       "      <td>4.000</td>\n",
       "      <td>3.166</td>\n",
       "      <td>3.222</td>\n",
       "      <td>34334500</td>\n",
       "      <td>0</td>\n",
       "      <td>0.0</td>\n",
       "    </tr>\n",
       "  </tbody>\n",
       "</table>\n",
       "</div>"
      ],
      "text/plain": [
       "             Open   High    Low  Close    Volume  Dividends  Stock Splits\n",
       "Date                                                                     \n",
       "2010-06-29  3.800  5.000  3.508  4.778  93831500          0           0.0\n",
       "2010-06-30  5.158  6.084  4.660  4.766  85935500          0           0.0\n",
       "2010-07-01  5.000  5.184  4.054  4.392  41094000          0           0.0\n",
       "2010-07-02  4.600  4.620  3.742  3.840  25699000          0           0.0\n",
       "2010-07-06  4.000  4.000  3.166  3.222  34334500          0           0.0"
      ]
     },
     "execution_count": 18,
     "metadata": {},
     "output_type": "execute_result"
    }
   ],
   "source": [
    "t_stock = yf.Ticker(\"TSLA\")\n",
    "t_stock = t_stock.history(period=\"max\")\n",
    "t_stock.head(5)"
   ]
  },
  {
   "cell_type": "code",
   "execution_count": 19,
   "id": "d7238fb1-15f5-4b0c-bd14-ce91a621a78b",
   "metadata": {},
   "outputs": [
    {
     "name": "stdout",
     "output_type": "stream",
     "text": [
      "<class 'pandas.core.frame.DataFrame'>\n",
      "DatetimeIndex: 2729 entries, 2010-06-29 to 2021-04-30\n",
      "Data columns (total 7 columns):\n",
      " #   Column        Non-Null Count  Dtype  \n",
      "---  ------        --------------  -----  \n",
      " 0   Open          2729 non-null   float64\n",
      " 1   High          2729 non-null   float64\n",
      " 2   Low           2729 non-null   float64\n",
      " 3   Close         2729 non-null   float64\n",
      " 4   Volume        2729 non-null   int64  \n",
      " 5   Dividends     2729 non-null   int64  \n",
      " 6   Stock Splits  2729 non-null   float64\n",
      "dtypes: float64(5), int64(2)\n",
      "memory usage: 170.6 KB\n"
     ]
    }
   ],
   "source": [
    "t_stock.info()"
   ]
  },
  {
   "cell_type": "markdown",
   "id": "f7156180-6288-4afa-8b08-834a4d130a29",
   "metadata": {},
   "source": [
    "### Q2. Tesla  Stock data using Web Scraping"
   ]
  },
  {
   "cell_type": "code",
   "execution_count": 33,
   "id": "c102c92f-8424-418d-97b1-315d50a8b7a2",
   "metadata": {},
   "outputs": [],
   "source": [
    "html_content = requests.get(\"https://finance.yahoo.com/quote/TSLA/history?period1=1277769600&period2=1612137600&interval=1d&filter=history&frequency=1d&includeAdjustedClose=False\").text\n",
    "soup = BeautifulSoup(html_content, \"html.parser\")"
   ]
  },
  {
   "cell_type": "code",
   "execution_count": 34,
   "id": "0a152b56-4cfa-4202-908d-4885a91f3fe8",
   "metadata": {},
   "outputs": [],
   "source": [
    "tesla_data = pd.DataFrame(columns=[\"Date\", \"Open\", \"High\", \"Low\", \"Close\", \"Volume\"])\n",
    "\n",
    "for row in soup.find(\"tbody\").find_all(\"tr\"):\n",
    "    col = row.find_all(\"td\")\n",
    "    date =col[0].text\n",
    "    Open =col[1].text\n",
    "    high =col[2].text\n",
    "    low =col[3].text\n",
    "    close =col[4].text\n",
    "    adj_close =col[5].text\n",
    "    volume =col[6].text\n",
    "    \n",
    "    tesla_data = tesla_data.append({\"Date\":date, \"Open\":Open, \"High\":high, \"Low\":low, \"Close\":close, \"Adj Close\":adj_close, \"Volume\":volume}, ignore_index=True)"
   ]
  },
  {
   "cell_type": "code",
   "execution_count": 35,
   "id": "70c34c21-e92b-4eee-85b9-61675a7309f9",
   "metadata": {},
   "outputs": [
    {
     "data": {
      "text/html": [
       "<div>\n",
       "<style scoped>\n",
       "    .dataframe tbody tr th:only-of-type {\n",
       "        vertical-align: middle;\n",
       "    }\n",
       "\n",
       "    .dataframe tbody tr th {\n",
       "        vertical-align: top;\n",
       "    }\n",
       "\n",
       "    .dataframe thead th {\n",
       "        text-align: right;\n",
       "    }\n",
       "</style>\n",
       "<table border=\"1\" class=\"dataframe\">\n",
       "  <thead>\n",
       "    <tr style=\"text-align: right;\">\n",
       "      <th></th>\n",
       "      <th>Date</th>\n",
       "      <th>Open</th>\n",
       "      <th>High</th>\n",
       "      <th>Low</th>\n",
       "      <th>Close</th>\n",
       "      <th>Volume</th>\n",
       "      <th>Adj Close</th>\n",
       "    </tr>\n",
       "  </thead>\n",
       "  <tbody>\n",
       "    <tr>\n",
       "      <th>0</th>\n",
       "      <td>Jan 29, 2021</td>\n",
       "      <td>830.00</td>\n",
       "      <td>842.41</td>\n",
       "      <td>780.10</td>\n",
       "      <td>793.53</td>\n",
       "      <td>34,990,800</td>\n",
       "      <td>793.53</td>\n",
       "    </tr>\n",
       "    <tr>\n",
       "      <th>1</th>\n",
       "      <td>Jan 28, 2021</td>\n",
       "      <td>820.00</td>\n",
       "      <td>848.00</td>\n",
       "      <td>801.00</td>\n",
       "      <td>835.43</td>\n",
       "      <td>26,378,000</td>\n",
       "      <td>835.43</td>\n",
       "    </tr>\n",
       "    <tr>\n",
       "      <th>2</th>\n",
       "      <td>Jan 27, 2021</td>\n",
       "      <td>870.35</td>\n",
       "      <td>891.50</td>\n",
       "      <td>858.66</td>\n",
       "      <td>864.16</td>\n",
       "      <td>27,334,000</td>\n",
       "      <td>864.16</td>\n",
       "    </tr>\n",
       "    <tr>\n",
       "      <th>3</th>\n",
       "      <td>Jan 26, 2021</td>\n",
       "      <td>891.38</td>\n",
       "      <td>895.90</td>\n",
       "      <td>871.60</td>\n",
       "      <td>883.09</td>\n",
       "      <td>23,131,600</td>\n",
       "      <td>883.09</td>\n",
       "    </tr>\n",
       "    <tr>\n",
       "      <th>4</th>\n",
       "      <td>Jan 25, 2021</td>\n",
       "      <td>855.00</td>\n",
       "      <td>900.40</td>\n",
       "      <td>838.82</td>\n",
       "      <td>880.80</td>\n",
       "      <td>41,173,400</td>\n",
       "      <td>880.80</td>\n",
       "    </tr>\n",
       "  </tbody>\n",
       "</table>\n",
       "</div>"
      ],
      "text/plain": [
       "           Date    Open    High     Low   Close      Volume Adj Close\n",
       "0  Jan 29, 2021  830.00  842.41  780.10  793.53  34,990,800    793.53\n",
       "1  Jan 28, 2021  820.00  848.00  801.00  835.43  26,378,000    835.43\n",
       "2  Jan 27, 2021  870.35  891.50  858.66  864.16  27,334,000    864.16\n",
       "3  Jan 26, 2021  891.38  895.90  871.60  883.09  23,131,600    883.09\n",
       "4  Jan 25, 2021  855.00  900.40  838.82  880.80  41,173,400    880.80"
      ]
     },
     "execution_count": 35,
     "metadata": {},
     "output_type": "execute_result"
    }
   ],
   "source": [
    "tesla_data.head()"
   ]
  },
  {
   "cell_type": "markdown",
   "id": "6fcabb46-59e2-48f8-8b72-2d56db968d7b",
   "metadata": {},
   "source": [
    "### Q3. Game Stop Stock data using yfinance"
   ]
  },
  {
   "cell_type": "code",
   "execution_count": 10,
   "id": "4260fbd3-9f40-47bc-aa7b-79b1c6f334a8",
   "metadata": {},
   "outputs": [
    {
     "data": {
      "text/html": [
       "<div>\n",
       "<style scoped>\n",
       "    .dataframe tbody tr th:only-of-type {\n",
       "        vertical-align: middle;\n",
       "    }\n",
       "\n",
       "    .dataframe tbody tr th {\n",
       "        vertical-align: top;\n",
       "    }\n",
       "\n",
       "    .dataframe thead th {\n",
       "        text-align: right;\n",
       "    }\n",
       "</style>\n",
       "<table border=\"1\" class=\"dataframe\">\n",
       "  <thead>\n",
       "    <tr style=\"text-align: right;\">\n",
       "      <th></th>\n",
       "      <th>Open</th>\n",
       "      <th>High</th>\n",
       "      <th>Low</th>\n",
       "      <th>Close</th>\n",
       "      <th>Volume</th>\n",
       "      <th>Dividends</th>\n",
       "      <th>Stock Splits</th>\n",
       "    </tr>\n",
       "    <tr>\n",
       "      <th>Date</th>\n",
       "      <th></th>\n",
       "      <th></th>\n",
       "      <th></th>\n",
       "      <th></th>\n",
       "      <th></th>\n",
       "      <th></th>\n",
       "      <th></th>\n",
       "    </tr>\n",
       "  </thead>\n",
       "  <tbody>\n",
       "    <tr>\n",
       "      <th>2002-02-13</th>\n",
       "      <td>6.480513</td>\n",
       "      <td>6.773399</td>\n",
       "      <td>6.413183</td>\n",
       "      <td>6.766666</td>\n",
       "      <td>19054000</td>\n",
       "      <td>0.0</td>\n",
       "      <td>0.0</td>\n",
       "    </tr>\n",
       "    <tr>\n",
       "      <th>2002-02-14</th>\n",
       "      <td>6.850831</td>\n",
       "      <td>6.864296</td>\n",
       "      <td>6.682506</td>\n",
       "      <td>6.733003</td>\n",
       "      <td>2755400</td>\n",
       "      <td>0.0</td>\n",
       "      <td>0.0</td>\n",
       "    </tr>\n",
       "    <tr>\n",
       "      <th>2002-02-15</th>\n",
       "      <td>6.733001</td>\n",
       "      <td>6.749833</td>\n",
       "      <td>6.632006</td>\n",
       "      <td>6.699336</td>\n",
       "      <td>2097400</td>\n",
       "      <td>0.0</td>\n",
       "      <td>0.0</td>\n",
       "    </tr>\n",
       "    <tr>\n",
       "      <th>2002-02-19</th>\n",
       "      <td>6.665671</td>\n",
       "      <td>6.665671</td>\n",
       "      <td>6.312189</td>\n",
       "      <td>6.430017</td>\n",
       "      <td>1852600</td>\n",
       "      <td>0.0</td>\n",
       "      <td>0.0</td>\n",
       "    </tr>\n",
       "    <tr>\n",
       "      <th>2002-02-20</th>\n",
       "      <td>6.463681</td>\n",
       "      <td>6.648838</td>\n",
       "      <td>6.413183</td>\n",
       "      <td>6.648838</td>\n",
       "      <td>1723200</td>\n",
       "      <td>0.0</td>\n",
       "      <td>0.0</td>\n",
       "    </tr>\n",
       "    <tr>\n",
       "      <th>...</th>\n",
       "      <td>...</td>\n",
       "      <td>...</td>\n",
       "      <td>...</td>\n",
       "      <td>...</td>\n",
       "      <td>...</td>\n",
       "      <td>...</td>\n",
       "      <td>...</td>\n",
       "    </tr>\n",
       "    <tr>\n",
       "      <th>2021-04-26</th>\n",
       "      <td>150.979996</td>\n",
       "      <td>174.679993</td>\n",
       "      <td>148.759995</td>\n",
       "      <td>168.929993</td>\n",
       "      <td>10532100</td>\n",
       "      <td>0.0</td>\n",
       "      <td>0.0</td>\n",
       "    </tr>\n",
       "    <tr>\n",
       "      <th>2021-04-27</th>\n",
       "      <td>183.550003</td>\n",
       "      <td>188.000000</td>\n",
       "      <td>173.169998</td>\n",
       "      <td>177.770004</td>\n",
       "      <td>8932700</td>\n",
       "      <td>0.0</td>\n",
       "      <td>0.0</td>\n",
       "    </tr>\n",
       "    <tr>\n",
       "      <th>2021-04-28</th>\n",
       "      <td>172.100006</td>\n",
       "      <td>181.979996</td>\n",
       "      <td>166.029999</td>\n",
       "      <td>178.580002</td>\n",
       "      <td>5788900</td>\n",
       "      <td>0.0</td>\n",
       "      <td>0.0</td>\n",
       "    </tr>\n",
       "    <tr>\n",
       "      <th>2021-04-29</th>\n",
       "      <td>176.559998</td>\n",
       "      <td>180.860001</td>\n",
       "      <td>170.750000</td>\n",
       "      <td>176.190002</td>\n",
       "      <td>3753500</td>\n",
       "      <td>0.0</td>\n",
       "      <td>0.0</td>\n",
       "    </tr>\n",
       "    <tr>\n",
       "      <th>2021-04-30</th>\n",
       "      <td>175.000000</td>\n",
       "      <td>183.800003</td>\n",
       "      <td>174.190002</td>\n",
       "      <td>179.229996</td>\n",
       "      <td>2174688</td>\n",
       "      <td>0.0</td>\n",
       "      <td>0.0</td>\n",
       "    </tr>\n",
       "  </tbody>\n",
       "</table>\n",
       "<p>4837 rows × 7 columns</p>\n",
       "</div>"
      ],
      "text/plain": [
       "                  Open        High         Low       Close    Volume  \\\n",
       "Date                                                                   \n",
       "2002-02-13    6.480513    6.773399    6.413183    6.766666  19054000   \n",
       "2002-02-14    6.850831    6.864296    6.682506    6.733003   2755400   \n",
       "2002-02-15    6.733001    6.749833    6.632006    6.699336   2097400   \n",
       "2002-02-19    6.665671    6.665671    6.312189    6.430017   1852600   \n",
       "2002-02-20    6.463681    6.648838    6.413183    6.648838   1723200   \n",
       "...                ...         ...         ...         ...       ...   \n",
       "2021-04-26  150.979996  174.679993  148.759995  168.929993  10532100   \n",
       "2021-04-27  183.550003  188.000000  173.169998  177.770004   8932700   \n",
       "2021-04-28  172.100006  181.979996  166.029999  178.580002   5788900   \n",
       "2021-04-29  176.559998  180.860001  170.750000  176.190002   3753500   \n",
       "2021-04-30  175.000000  183.800003  174.190002  179.229996   2174688   \n",
       "\n",
       "            Dividends  Stock Splits  \n",
       "Date                                 \n",
       "2002-02-13        0.0           0.0  \n",
       "2002-02-14        0.0           0.0  \n",
       "2002-02-15        0.0           0.0  \n",
       "2002-02-19        0.0           0.0  \n",
       "2002-02-20        0.0           0.0  \n",
       "...               ...           ...  \n",
       "2021-04-26        0.0           0.0  \n",
       "2021-04-27        0.0           0.0  \n",
       "2021-04-28        0.0           0.0  \n",
       "2021-04-29        0.0           0.0  \n",
       "2021-04-30        0.0           0.0  \n",
       "\n",
       "[4837 rows x 7 columns]"
      ]
     },
     "execution_count": 10,
     "metadata": {},
     "output_type": "execute_result"
    }
   ],
   "source": [
    "gs_stock = yf.Ticker(\"GME\")\n",
    "gs_stock = gs_stock.history(period=\"max\")\n",
    "gs_stock"
   ]
  },
  {
   "cell_type": "markdown",
   "id": "dcd770f8-486e-4a74-bb05-35c36fba911f",
   "metadata": {},
   "source": [
    "### Q4. Game Stop Stock data using Web Scraping"
   ]
  },
  {
   "cell_type": "code",
   "execution_count": 38,
   "id": "df7345aa-5b94-44ae-958e-08243045ef5a",
   "metadata": {},
   "outputs": [],
   "source": [
    "html_content = requests.get(\"https://finance.yahoo.com/quote/GME/history?period1=1277769600&period2=1612137600&interval=1d&filter=history&frequency=1d&includeAdjustedClose=False\").text\n",
    "soup = BeautifulSoup(html_content, \"html.parser\")"
   ]
  },
  {
   "cell_type": "code",
   "execution_count": 39,
   "id": "61eed190-2958-4da3-bddb-61fedcd5d046",
   "metadata": {},
   "outputs": [],
   "source": [
    "gme_data = pd.DataFrame(columns=[\"Date\", \"Open\", \"High\", \"Low\", \"Close\", \"Volume\"])\n",
    "\n",
    "for row in soup.find(\"tbody\").find_all(\"tr\"):\n",
    "    col = row.find_all(\"td\")\n",
    "    date =col[0].text\n",
    "    Open =col[1].text\n",
    "    high =col[2].text\n",
    "    low =col[3].text\n",
    "    close =col[4].text\n",
    "    adj_close =col[5].text\n",
    "    volume =col[6].text\n",
    "    \n",
    "    gme_data = gme_data.append({\"Date\":date, \"Open\":Open, \"High\":high, \"Low\":low, \"Close\":close, \"Adj Close\":adj_close, \"Volume\":volume}, ignore_index=True)"
   ]
  },
  {
   "cell_type": "code",
   "execution_count": 40,
   "id": "0529b60a-3774-45f0-b1bc-dd06d74fc9b6",
   "metadata": {},
   "outputs": [
    {
     "data": {
      "text/html": [
       "<div>\n",
       "<style scoped>\n",
       "    .dataframe tbody tr th:only-of-type {\n",
       "        vertical-align: middle;\n",
       "    }\n",
       "\n",
       "    .dataframe tbody tr th {\n",
       "        vertical-align: top;\n",
       "    }\n",
       "\n",
       "    .dataframe thead th {\n",
       "        text-align: right;\n",
       "    }\n",
       "</style>\n",
       "<table border=\"1\" class=\"dataframe\">\n",
       "  <thead>\n",
       "    <tr style=\"text-align: right;\">\n",
       "      <th></th>\n",
       "      <th>Date</th>\n",
       "      <th>Open</th>\n",
       "      <th>High</th>\n",
       "      <th>Low</th>\n",
       "      <th>Close</th>\n",
       "      <th>Volume</th>\n",
       "      <th>Adj Close</th>\n",
       "    </tr>\n",
       "  </thead>\n",
       "  <tbody>\n",
       "    <tr>\n",
       "      <th>0</th>\n",
       "      <td>Jan 29, 2021</td>\n",
       "      <td>379.71</td>\n",
       "      <td>413.98</td>\n",
       "      <td>250.00</td>\n",
       "      <td>325.00</td>\n",
       "      <td>50,259,200</td>\n",
       "      <td>325.00</td>\n",
       "    </tr>\n",
       "    <tr>\n",
       "      <th>1</th>\n",
       "      <td>Jan 28, 2021</td>\n",
       "      <td>265.00</td>\n",
       "      <td>483.00</td>\n",
       "      <td>112.25</td>\n",
       "      <td>193.60</td>\n",
       "      <td>58,815,800</td>\n",
       "      <td>193.60</td>\n",
       "    </tr>\n",
       "    <tr>\n",
       "      <th>2</th>\n",
       "      <td>Jan 27, 2021</td>\n",
       "      <td>354.83</td>\n",
       "      <td>380.00</td>\n",
       "      <td>249.00</td>\n",
       "      <td>347.51</td>\n",
       "      <td>93,396,700</td>\n",
       "      <td>347.51</td>\n",
       "    </tr>\n",
       "    <tr>\n",
       "      <th>3</th>\n",
       "      <td>Jan 26, 2021</td>\n",
       "      <td>88.56</td>\n",
       "      <td>150.00</td>\n",
       "      <td>80.20</td>\n",
       "      <td>147.98</td>\n",
       "      <td>178,588,000</td>\n",
       "      <td>147.98</td>\n",
       "    </tr>\n",
       "    <tr>\n",
       "      <th>4</th>\n",
       "      <td>Jan 25, 2021</td>\n",
       "      <td>96.73</td>\n",
       "      <td>159.18</td>\n",
       "      <td>61.13</td>\n",
       "      <td>76.79</td>\n",
       "      <td>177,874,000</td>\n",
       "      <td>76.79</td>\n",
       "    </tr>\n",
       "  </tbody>\n",
       "</table>\n",
       "</div>"
      ],
      "text/plain": [
       "           Date    Open    High     Low   Close       Volume Adj Close\n",
       "0  Jan 29, 2021  379.71  413.98  250.00  325.00   50,259,200    325.00\n",
       "1  Jan 28, 2021  265.00  483.00  112.25  193.60   58,815,800    193.60\n",
       "2  Jan 27, 2021  354.83  380.00  249.00  347.51   93,396,700    347.51\n",
       "3  Jan 26, 2021   88.56  150.00   80.20  147.98  178,588,000    147.98\n",
       "4  Jan 25, 2021   96.73  159.18   61.13   76.79  177,874,000     76.79"
      ]
     },
     "execution_count": 40,
     "metadata": {},
     "output_type": "execute_result"
    }
   ],
   "source": [
    "gme_data.head()"
   ]
  },
  {
   "cell_type": "markdown",
   "id": "fed12c00-5896-45b5-bf81-4f31f27e48f8",
   "metadata": {},
   "source": [
    "### Q5. Tesla Stock and Revenue Dashboard"
   ]
  },
  {
   "cell_type": "code",
   "execution_count": 14,
   "id": "7fefeb9d-b3ca-4c8c-9469-9413eb408b6f",
   "metadata": {},
   "outputs": [
    {
     "data": {
      "text/plain": [
       "<AxesSubplot:xlabel='Date'>"
      ]
     },
     "execution_count": 14,
     "metadata": {},
     "output_type": "execute_result"
    },
    {
     "data": {
      "image/png": "[encoded data removed]",
      "text/plain": [
       "<Figure size 432x288 with 1 Axes>"
      ]
     },
     "metadata": {
      "needs_background": "light"
     },
     "output_type": "display_data"
    }
   ],
   "source": [
    "t_stock.reset_index(inplace=True)\n",
    "t_stock.plot(x=\"Date\", y=\"Open\")"
   ]
  },
  {
   "cell_type": "markdown",
   "id": "ccc61899-1bd9-4e2e-991a-c86d190cba60",
   "metadata": {},
   "source": [
    "### Q6. Game Stop Stock and Revenue Dashboard"
   ]
  },
  {
   "cell_type": "code",
   "execution_count": 41,
   "id": "ae2fb7ee-faaf-49cc-aef6-2a13809dae07",
   "metadata": {},
   "outputs": [
    {
     "data": {
      "text/plain": [
       "<AxesSubplot:xlabel='Date'>"
      ]
     },
     "execution_count": 41,
     "metadata": {},
     "output_type": "execute_result"
    },
    {
     "data": {
      "image/png": "[encoded data removed]",
      "text/plain": [
       "<Figure size 432x288 with 1 Axes>"
      ]
     },
     "metadata": {
      "needs_background": "light"
     },
     "output_type": "display_data"
    }
   ],
   "source": [
    "gs_stock.reset_index(inplace=True)\n",
    "gs_stock.plot(x=\"Date\", y=\"Open\")"
   ]
  },
  {
   "cell_type": "code",
   "execution_count": null,
   "id": "75865671-5fdb-451c-813e-20da1a6612c1",
   "metadata": {},
   "outputs": [],
   "source": []
  }
 ],
 "metadata": {
  "kernelspec": {
   "display_name": "Python 3",
   "language": "python",
   "name": "python3"
  },
  "language_info": {
   "codemirror_mode": {
    "name": "ipython",
    "version": 3
   },
   "file_extension": ".py",
   "mimetype": "text/x-python",
   "name": "python",
   "nbconvert_exporter": "python",
   "pygments_lexer": "ipython3",
   "version": "3.7.3"
  }
 },
 "nbformat": 4,
 "nbformat_minor": 5
}
